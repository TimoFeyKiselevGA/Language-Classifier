{
  "nbformat": 4,
  "nbformat_minor": 0,
  "metadata": {
    "colab": {
      "name": "JazykovaClasifikace.ipynb",
      "provenance": [],
      "collapsed_sections": [],
      "toc_visible": true,
      "authorship_tag": "ABX9TyMPIkHHQtj2HwrU2J/zutVG",
      "include_colab_link": true
    },
    "kernelspec": {
      "display_name": "Python 3",
      "name": "python3"
    }
  },
  "cells": [
    {
      "cell_type": "markdown",
      "metadata": {
        "id": "view-in-github",
        "colab_type": "text"
      },
      "source": [
        "<a href=\"https://colab.research.google.com/github/TimoFeyKiselevGA/2020-e4-kiselev-Language-Classifier/blob/main/JazykovaClasifikace.ipynb\" target=\"_parent\"><img src=\"https://colab.research.google.com/assets/colab-badge.svg\" alt=\"Open In Colab\"/></a>"
      ]
    },
    {
      "cell_type": "markdown",
      "metadata": {
        "id": "H-mN8Xc3iIVT"
      },
      "source": [
        "# **Part 1, downloading and extracting texts** "
      ]
    },
    {
      "cell_type": "markdown",
      "metadata": {
        "id": "p1lk-zmwiqfz"
      },
      "source": [
        "## Imports and"
      ]
    },
    {
      "cell_type": "code",
      "metadata": {
        "colab": {
          "base_uri": "https://localhost:8080/"
        },
        "id": "8YOojf48KxCQ",
        "outputId": "62d64c58-060d-4430-9d90-fe05ac5617ca"
      },
      "source": [
        "import xml.etree.ElementTree as etree\n",
        "import codecs\n",
        "import csv\n",
        "import os\n",
        "import pandas as pd\n",
        "import pickle\n",
        "import re\n",
        "%load_ext google.colab.data_table\n",
        "import os\n",
        "import gc\n",
        "import psutil\n",
        "\n",
        "pd.set_option('display.max_colwidth', -1)"
      ],
      "execution_count": 1,
      "outputs": [
        {
          "output_type": "stream",
          "text": [
            "/usr/local/lib/python3.7/dist-packages/ipykernel_launcher.py:13: FutureWarning: Passing a negative integer is deprecated in version 1.0 and will not be supported in future version. Instead, use None to not limit the column width.\n",
            "  del sys.path[0]\n"
          ],
          "name": "stderr"
        }
      ]
    },
    {
      "cell_type": "code",
      "metadata": {
        "id": "sGwpUTKVemka"
      },
      "source": [
        ""
      ],
      "execution_count": 2,
      "outputs": []
    },
    {
      "cell_type": "markdown",
      "metadata": {
        "id": "-ey-XvldiyLr"
      },
      "source": [
        "## Downloading texts"
      ]
    },
    {
      "cell_type": "code",
      "metadata": {
        "id": "WRu5E6J63wnX"
      },
      "source": [
        "languages_to_download = {\n",
        "  \"CZ\": True,\n",
        "  \"RU\": True,\n",
        "  \"FR\": True,\n",
        "  \"DE\": True,\n",
        "  \"EN\": True,\n",
        "  \"PL\": True,\n",
        "  \"IT\": True,\n",
        "  \"JA\": True,\n",
        "  \"UK\": True,\n",
        "  \"AR\": True,\n",
        "  \"FI\": True,\n",
        "  \"BG\": True,\n",
        "}\n",
        "\n",
        "languages_links = {\n",
        "    \n",
        "    \"CZ\": \"https://dumps.wikimedia.org/cswiki/20210120/cswiki-20210120-pages-articles.xml.bz2\",\n",
        "    \"RU\": \"https://dumps.wikimedia.org/ruwiki/20210101/ruwiki-20210101-pages-articles-multistream5.xml-p3835773p5335772.bz2\",\n",
        "    \"FR\": \"https://dumps.wikimedia.org/frwiki/20210101/frwiki-20210101-pages-articles-multistream2.xml-p306135p1050822.bz2\",\n",
        "    \"DE\": \"https://dumps.wikimedia.org/dewiki/20210101/dewiki-20210101-pages-articles-multistream6.xml-p9261245p10761244.bz2\",\n",
        "    \"EN\": \"https://dumps.wikimedia.org/enwiki/20210101/enwiki-20210101-pages-articles-multistream9.xml-p2936261p4045402.bz2\",\n",
        "    \"PL\": \"https://dumps.wikimedia.org/plwiki/20210101/plwiki-20210101-pages-articles-multistream4.xml-p1199519p2047892.bz2\",\n",
        "    \"IT\": \"https://dumps.wikimedia.org/itwiki/20210101/itwiki-20210101-pages-articles-multistream4.xml-p2206775p3593336.bz2\",\n",
        "    \"JA\": \"https://dumps.wikimedia.org/jawiki/20210101/jawiki-20210101-pages-articles-multistream5.xml-p1721647p2807947.bz2\",\n",
        "    \"UK\": \"https://dumps.wikimedia.org/ukwiki/20210120/ukwiki-20210120-pages-articles-multistream4.xml-p987986p1674442.bz2\",\n",
        "    \"AR\": \"https://dumps.wikimedia.org/arwiki/20210120/arwiki-20210120-pages-articles-multistream4.xml-p2482316p3982315.bz2\",\n",
        "    \"FI\": \"https://dumps.wikimedia.org/fiwiki/20210120/fiwiki-20210120-pages-articles-multistream.xml.bz2\",\n",
        "    \"BG\": \"https://dumps.wikimedia.org/bgwiki/20210120/bgwiki-20210120-pages-articles-multistream.xml.bz2\",\n",
        "}\n",
        "\n",
        "languages = ['CZ', 'RU', 'FR', 'DE', 'EN', 'PL', 'IT', 'JA', \"UK\", \"AR\", \"FI\", \"BG\"]\n",
        "languages_to_process = {\n",
        "  \"CZ\": True,\n",
        "  \"RU\": True,\n",
        "  \"FR\": True,\n",
        "  \"DE\": True,\n",
        "  \"EN\": True,\n",
        "  \"PL\": True,\n",
        "  \"IT\": True,\n",
        "  \"JA\": True,\n",
        "  \"UK\": True,\n",
        "  \"AR\": True,\n",
        "  \"FI\": True,\n",
        "  \"BG\": True,\n",
        "}"
      ],
      "execution_count": 3,
      "outputs": []
    },
    {
      "cell_type": "code",
      "metadata": {
        "id": "PiFuGtTTQ042"
      },
      "source": [
        "def rename(s):\n",
        "    return languages_links[s].split(\"/\")[len(languages_links[s].split(\"/\"))-1].split(\".\")[0]+ \".\" +languages_links[s].split(\"/\")[len(languages_links[s].split(\"/\"))-1].split(\".\")[1]"
      ],
      "execution_count": 4,
      "outputs": []
    },
    {
      "cell_type": "code",
      "metadata": {
        "colab": {
          "base_uri": "https://localhost:8080/"
        },
        "id": "Uw3Q5CnA5G3f",
        "outputId": "6b252134-a592-4b5e-88e3-4eebca702c85"
      },
      "source": [
        "for lang in languages:\n",
        "    if languages_to_download[lang]:\n",
        "        print(\"downloading \" + lang)\n",
        "        os.system(\"wget \" + languages_links[lang])\n",
        "        print(\"extracting \" + lang)\n",
        "        os.system(\"bzip2 -d ./ \" + languages_links[lang].split(\"/\")[len(languages_links[lang].split(\"/\"))-1])\n",
        "        os.system(\"mv \" + rename(lang) + \" \" + languages_links[lang].split(\"/\")[len(languages_links[lang].split(\"/\"))-1].split(\".\")[0] + \".xml\")\n"
      ],
      "execution_count": 5,
      "outputs": [
        {
          "output_type": "stream",
          "text": [
            "downloading CZ\n",
            "extracting CZ\n",
            "downloading RU\n",
            "extracting RU\n",
            "downloading FR\n",
            "extracting FR\n",
            "downloading DE\n",
            "extracting DE\n",
            "downloading EN\n",
            "extracting EN\n",
            "downloading PL\n",
            "extracting PL\n",
            "downloading IT\n",
            "extracting IT\n",
            "downloading JA\n",
            "extracting JA\n",
            "downloading UK\n",
            "extracting UK\n",
            "downloading AR\n",
            "extracting AR\n",
            "downloading FI\n",
            "extracting FI\n",
            "downloading BG\n",
            "extracting BG\n"
          ],
          "name": "stdout"
        }
      ]
    },
    {
      "cell_type": "markdown",
      "metadata": {
        "id": "vuco0Gr-jtNW"
      },
      "source": [
        "## Creating pkl files with texts without most special chars. from xmls."
      ]
    },
    {
      "cell_type": "code",
      "metadata": {
        "id": "sOPR-DtIdlJR"
      },
      "source": [
        "def strip_tag_name(t):\n",
        "    idx = k = t.rfind(\"}\")\n",
        "    if idx != -1:\n",
        "        t = t[idx + 1:]\n",
        "    return t"
      ],
      "execution_count": 6,
      "outputs": []
    },
    {
      "cell_type": "code",
      "metadata": {
        "id": "4JuCrnVngyfE"
      },
      "source": [
        "def articles_to_csv(totalCount):\n",
        "    with codecs.open(pathTexts, \"w\", ENCODING) as textsFH:\n",
        "        textWriter = csv.writer(textsFH, quoting=csv.QUOTE_MINIMAL)\n",
        "        textWriter.writerow(['text'])\n",
        "        for event, elem in etree.iterparse(pathWikiXML, events=('start', 'end')):\n",
        "            tname = strip_tag_name(elem.tag)\n",
        "            if event == 'start':\n",
        "                if tname == 'page':\n",
        "                    title = ''\n",
        "                    id = -1\n",
        "                    redirect = ''\n",
        "                    inrevision = False\n",
        "                    ns = 0\n",
        "                    text = ''\n",
        "                elif tname == 'text':\n",
        "                    text = elem.text\n",
        "                    textWriter.writerow([text])\n",
        "                elif tname == 'page':\n",
        "                    totalCount += 1\n",
        "                if totalCount > 1 and (totalCount % 100000) == 0:\n",
        "                    print(\"{:,}\".format(totalCount))\n",
        "            elem.clear()"
      ],
      "execution_count": 7,
      "outputs": []
    },
    {
      "cell_type": "code",
      "metadata": {
        "colab": {
          "base_uri": "https://localhost:8080/"
        },
        "id": "ip12b-8RUsLV",
        "outputId": "c1f428d0-5095-4c83-9768-0542cbfd5d74"
      },
      "source": [
        "for lang in languages:\n",
        "    if languages_to_process[lang]:\n",
        "        print(lang)\n",
        "        PATH_WIKI_XML = './'\n",
        "        FILENAME_WIKI = languages_links[lang].split(\"/\")[len(languages_links[lang].split(\"/\"))-1].split('.')[0] + '.xml'\n",
        "        texts_template = 'temp.csv'\n",
        "        ENCODING = \"utf-8\"\n",
        "        pathWikiXML = os.path.join(PATH_WIKI_XML, FILENAME_WIKI)\n",
        "        pathTexts = os.path.join(PATH_WIKI_XML, texts_template)\n",
        "        totalCount = 0\n",
        "        articleCount = 0\n",
        "        title = None\n",
        "        articles_to_csv(totalCount)\n",
        "        a = pd.read_csv('temp.csv')\n",
        "        a = a.dropna()\n",
        "        a['text'] = a['text'].str.replace(',|\\$|\\{|\\}|\\-|\\+|\\[|\\]|\\\\n|\\<|\\>|\\\"|\\=|\\:|\\;|\\*|\\||\\#|\\$|\\(|\\)|\\/|\\.|\\–|\\_|\\«|\\»|\\—|\\!|\\&|\\?|\\`|\\~|\\%|\\@|\\¡|\\™|\\£|\\¢|\\∞|\\§|\\¶|\\•|\\ª|\\º|\\–|\\≠|\\«|\\æ|\\÷|\\≥|\\≤|\\÷|\\»|\\\\|\\^|\\ˆ|\\|\\\\|\\||\\）|\\（|\\、|\\'', ' ')\n",
        "        a['text'] = a['text'].str.replace('\\d+', '')\n",
        "        a['text'] = a['text'].str.replace('\\s\\s+' , ' ')\n",
        "        a = a.drop([a.index[0]])\n",
        "        a = a.reset_index(drop=True)\n",
        "        a['text'] = a['text'].str.lower()\n",
        "        a.to_pickle(\"./texts_\" + lang +  \".pkl\")\n",
        "        "
      ],
      "execution_count": 8,
      "outputs": [
        {
          "output_type": "stream",
          "text": [
            "CZ\n",
            "RU\n",
            "FR\n",
            "DE\n",
            "EN\n",
            "PL\n",
            "IT\n",
            "JA\n",
            "UK\n",
            "AR\n",
            "FI\n",
            "BG\n"
          ],
          "name": "stdout"
        }
      ]
    },
    {
      "cell_type": "code",
      "metadata": {
        "id": "eY2d3zSHC85E"
      },
      "source": [
        "%reset -f"
      ],
      "execution_count": 9,
      "outputs": []
    },
    {
      "cell_type": "markdown",
      "metadata": {
        "id": "Z-x6PwcnkRXa"
      },
      "source": [
        "# **Part 2: Dataset preparation**"
      ]
    },
    {
      "cell_type": "markdown",
      "metadata": {
        "id": "kMSTAFOOknpp"
      },
      "source": [
        "## Imports and settings"
      ]
    },
    {
      "cell_type": "code",
      "metadata": {
        "colab": {
          "base_uri": "https://localhost:8080/"
        },
        "id": "vKHpKVe21ZzK",
        "outputId": "e16c43f4-e147-4b7e-ed1b-246c5eb9f62e"
      },
      "source": [
        "import xml.etree.ElementTree as etree\n",
        "import codecs\n",
        "import csv\n",
        "import os\n",
        "import pandas as pd\n",
        "import pickle\n",
        "import re\n",
        "%load_ext google.colab.data_table\n",
        "import os\n",
        "import gc\n",
        "import psutil\n",
        "import numpy as np\n",
        "import random\n",
        "#random seeds\n",
        "random.seed(0)\n",
        "np.random.seed(0)\n",
        "\n",
        "pd.set_option('display.max_colwidth', -1)\n",
        "\n",
        "languages = ['CZ', 'RU', 'FR', 'DE', 'EN', 'PL', 'IT', 'JA', \"UK\", \"AR\", \"FI\", \"BG\"]\n",
        "languages_to_process = {\n",
        "  \"CZ\": True,\n",
        "  \"RU\": True,\n",
        "  \"FR\": True,\n",
        "  \"DE\": True,\n",
        "  \"EN\": True,\n",
        "  \"PL\": True,\n",
        "  \"IT\": True,\n",
        "  \"JA\": True,\n",
        "  \"UK\": True,\n",
        "  \"AR\": True,\n",
        "  \"FI\": True,\n",
        "  \"BG\": True,\n",
        "}"
      ],
      "execution_count": 10,
      "outputs": [
        {
          "output_type": "stream",
          "text": [
            "The google.colab.data_table extension is already loaded. To reload it, use:\n",
            "  %reload_ext google.colab.data_table\n"
          ],
          "name": "stdout"
        },
        {
          "output_type": "stream",
          "text": [
            "/usr/local/lib/python3.7/dist-packages/ipykernel_launcher.py:18: FutureWarning: Passing a negative integer is deprecated in version 1.0 and will not be supported in future version. Instead, use None to not limit the column width.\n"
          ],
          "name": "stderr"
        }
      ]
    },
    {
      "cell_type": "markdown",
      "metadata": {
        "id": "3r5l2xqgk8N7"
      },
      "source": [
        "## Dataset creation"
      ]
    },
    {
      "cell_type": "code",
      "metadata": {
        "id": "PHfk50TfuGwH"
      },
      "source": [
        "def chunkstring(string, length):\n",
        "    return re.findall('.{%d}' % length, string)\n",
        "\n",
        "def toPickleLoadList(string, textList):\n",
        "    file_name = \"texts_\" + string + \"_prep.pkl\"\n",
        "    open_file = open(file_name, \"wb\")\n",
        "    pickle.dump(textList, open_file)\n",
        "    open_file.close()\n",
        "    print(\"done \" + lang)\n",
        "\n",
        "def fromPickleLoadList(string):\n",
        "    file_name = \"texts_\" + string + \"_prep.pkl\"\n",
        "    open_file = open(file_name, \"rb\")\n",
        "    loaded_list = pickle.load(open_file)\n",
        "    open_file.close()\n",
        "    return loaded_list\n",
        "\n",
        "def chunkDataFrames(lang):\n",
        "    print(\"start \" + lang)\n",
        "    df = pd.read_pickle(\"./texts_\"+ lang + \".pkl\")\n",
        "    df = df[df['text'].apply(lambda x: len(x)>100)]\n",
        "    # df = df[~df.text.str.startswith(' redirect', na=True)]\n",
        "    df.text = df.text.replace('\\s+', ' ', regex=True)\n",
        "    df = df.text.str.cat(sep='')\n",
        "    textList = chunkstring(df, 200)\n",
        "    toPickleLoadList(lang, textList)\n",
        "    del df;  gc.collect()\n",
        "    del textList;  gc.collect()\n"
      ],
      "execution_count": 11,
      "outputs": []
    },
    {
      "cell_type": "code",
      "metadata": {
        "colab": {
          "base_uri": "https://localhost:8080/"
        },
        "id": "Zoaj3NtCUsQ0",
        "outputId": "b592c13d-32c9-4e29-d001-986395a0bbae"
      },
      "source": [
        "for lang in languages:\n",
        "    if languages_to_process[lang]:\n",
        "        chunkDataFrames(lang)\n",
        "    "
      ],
      "execution_count": null,
      "outputs": [
        {
          "output_type": "stream",
          "text": [
            "start CZ\n",
            "done CZ\n",
            "start RU\n",
            "done RU\n",
            "start FR\n",
            "done FR\n",
            "start DE\n",
            "done DE\n",
            "start EN\n",
            "done EN\n",
            "start PL\n"
          ],
          "name": "stdout"
        }
      ]
    },
    {
      "cell_type": "code",
      "metadata": {
        "id": "kSAg50zD22fS"
      },
      "source": [
        "from sklearn.utils import shuffle\n",
        "text_to_tokens = []\n",
        "id_lang = []\n",
        "id = 0\n",
        "delka = 100000\n",
        "\n",
        "for lang in languages:\n",
        "    df = shuffle(fromPickleLoadList(lang))\n",
        "    df = df[:delka]\n",
        "    id_lang = id_lang + [id] * delka\n",
        "    id = id + 1\n",
        "    text_to_tokens = text_to_tokens + df"
      ],
      "execution_count": null,
      "outputs": []
    },
    {
      "cell_type": "code",
      "metadata": {
        "id": "eUZJFcaR23sJ"
      },
      "source": [
        "data_tuples = list(zip(text_to_tokens,id_lang))\n",
        "df = pd.DataFrame(data_tuples, columns=['X','Y'])"
      ],
      "execution_count": null,
      "outputs": []
    },
    {
      "cell_type": "code",
      "metadata": {
        "id": "AnOvuHQu3t5Z"
      },
      "source": [
        "df = shuffle(df)"
      ],
      "execution_count": null,
      "outputs": []
    },
    {
      "cell_type": "code",
      "metadata": {
        "id": "Jq5-HUCm2eAN"
      },
      "source": [
        "df.head()"
      ],
      "execution_count": null,
      "outputs": []
    },
    {
      "cell_type": "markdown",
      "metadata": {
        "id": "73LzfF4MlJK3"
      },
      "source": [
        "# Part 3: Model training"
      ]
    },
    {
      "cell_type": "markdown",
      "metadata": {
        "id": "Wl-5id2CleXj"
      },
      "source": [
        "## Imports and settings\n"
      ]
    },
    {
      "cell_type": "code",
      "metadata": {
        "id": "AkDJCvxt8BsX"
      },
      "source": [
        "from sklearn.model_selection import train_test_split\n",
        "train, test = train_test_split(df, test_size=0.3)"
      ],
      "execution_count": null,
      "outputs": []
    },
    {
      "cell_type": "code",
      "metadata": {
        "id": "VXmkpo5X4n6I"
      },
      "source": [
        "from sklearn.feature_extraction.text import TfidfVectorizer\n",
        "from sklearn.pipeline import Pipeline\n",
        "from sklearn.linear_model import LogisticRegression\n",
        "import torch\n",
        "from torch import nn\n",
        "from torch.nn import functional as F\n",
        "from sklearn.metrics import accuracy_score"
      ],
      "execution_count": null,
      "outputs": []
    },
    {
      "cell_type": "markdown",
      "metadata": {
        "id": "sUO_CLzElweI"
      },
      "source": [
        "## Model creation and training"
      ]
    },
    {
      "cell_type": "code",
      "metadata": {
        "id": "ZkjNu2mk42cr"
      },
      "source": [
        "def simple_tokenizer(txt, min_len=2):\n",
        "    all_tokens = re.compile(r'[\\w\\d]+').findall(txt)\n",
        "    all_tokens = [x.lower() for x in all_tokens]\n",
        "    return [token for token in all_tokens if len(token) >= min_len]"
      ],
      "execution_count": null,
      "outputs": []
    },
    {
      "cell_type": "code",
      "metadata": {
        "id": "xqQqkh_K4oAY"
      },
      "source": [
        "sklearn_pipeline = Pipeline((('vect', TfidfVectorizer(tokenizer=simple_tokenizer,\n",
        "                                                      max_df=0.8,\n",
        "                                                      min_df=50)),\n",
        "                             ('cls', LogisticRegression())))"
      ],
      "execution_count": null,
      "outputs": []
    },
    {
      "cell_type": "code",
      "metadata": {
        "id": "NK7ZUCei4oH3"
      },
      "source": [
        "sklearn_pipeline.fit(train['X'].to_numpy(), train['Y'].to_numpy())"
      ],
      "execution_count": null,
      "outputs": []
    },
    {
      "cell_type": "code",
      "metadata": {
        "id": "TCDsuy8I4oOV"
      },
      "source": [
        "sklearn_train_pred = sklearn_pipeline.predict_proba(train['X'].to_numpy())\n",
        "sklearn_train_loss = F.cross_entropy(torch.from_numpy(sklearn_train_pred),\n",
        "                                                 torch.from_numpy(train['Y'].to_numpy()))"
      ],
      "execution_count": null,
      "outputs": []
    },
    {
      "cell_type": "code",
      "metadata": {
        "id": "56-lC6Y36Hqf"
      },
      "source": [
        "print('train loss', float(sklearn_train_loss))\n",
        "print('acc', accuracy_score(train['Y'], sklearn_train_pred.argmax(-1)))\n",
        "print()"
      ],
      "execution_count": null,
      "outputs": []
    },
    {
      "cell_type": "code",
      "metadata": {
        "id": "5F96hEHY6Hxz"
      },
      "source": [
        "sklearn_test_pred = sklearn_pipeline.predict_proba(test['X'].to_numpy())\n",
        "sklearn_test_loss = F.cross_entropy(torch.from_numpy(sklearn_test_pred),\n",
        "                                                torch.from_numpy(test['Y'].to_numpy()))"
      ],
      "execution_count": null,
      "outputs": []
    },
    {
      "cell_type": "code",
      "metadata": {
        "id": "6QQfqLHY6IC3"
      },
      "source": [
        "print('Val loss', float(sklearn_test_loss))\n",
        "print('acc', accuracy_score(test['Y'], sklearn_test_pred.argmax(-1)))"
      ],
      "execution_count": null,
      "outputs": []
    },
    {
      "cell_type": "code",
      "metadata": {
        "id": "S7iRLNRL7pnC"
      },
      "source": [
        "pokus = ['hilft zu lernen oder.', 'no jo ale to neni  ', ' s a song by the', 'Существуют оба потом']\n",
        "for i in range(0, len(pokus)):\n",
        "    print(languages[sklearn_pipeline.predict_proba(pokus).argmax(-1)[i]])"
      ],
      "execution_count": null,
      "outputs": []
    },
    {
      "cell_type": "code",
      "metadata": {
        "id": "LiEP5jaz9WQg"
      },
      "source": [
        "languages = ['CZ', 'RU', 'FR', 'DE', 'EN', 'PL', 'IT', 'JA', \"UK\", \"AR\", \"FI\", \"BG\"]"
      ],
      "execution_count": null,
      "outputs": []
    },
    {
      "cell_type": "code",
      "metadata": {
        "id": "Ff2Kkxp99WXe"
      },
      "source": [
        "pickle.dump(sklearn_pipeline, open(\"model.pkl\", 'wb'))"
      ],
      "execution_count": null,
      "outputs": []
    },
    {
      "cell_type": "code",
      "metadata": {
        "id": "jksyQrdz9WgY"
      },
      "source": [
        "loaded_model = pickle.load(open(\"model.pkl\", 'rb'))"
      ],
      "execution_count": null,
      "outputs": []
    },
    {
      "cell_type": "code",
      "metadata": {
        "colab": {
          "base_uri": "https://localhost:8080/"
        },
        "id": "cd3ccbN22ZzU",
        "outputId": "42e60117-75d8-4603-d8e4-ce59f5b831c3"
      },
      "source": [
        "pokus = ['hilft zu lernen oder.', 'jak se mas ne', ' s a song by the',\n",
        "         'Существуют оба потом', 'Южнославянски език, написан на кирилица', 'ファベットブルガリア語キリル文字',\n",
        "         'slaavilainen kieli, joka', 'اللغة السلافية الجنوبية مكتوبة']\n",
        "for i in range(0, len(pokus)):\n",
        "    print(loaded_model.predict_proba(pokus)[i])\n",
        "    print(languages[loaded_model.predict_proba(pokus).argmax(-1)[i]])"
      ],
      "execution_count": 32,
      "outputs": [
        {
          "output_type": "stream",
          "text": [
            "[0.01040848 0.01026844 0.00402816 0.7843419  0.002695   0.01620735\n",
            " 0.00559595 0.02351029 0.00924845 0.00482381 0.00927008 0.11960209]\n",
            "DE\n",
            "[0.40582396 0.01276854 0.07725536 0.02080623 0.00995471 0.14400358\n",
            " 0.05403377 0.03087383 0.0175532  0.00906137 0.20471717 0.01314829]\n",
            "CZ\n",
            "[4.57926011e-03 1.03126945e-02 9.88920802e-04 7.94266934e-04\n",
            " 9.33383965e-01 5.37864367e-03 2.51477785e-03 2.97311967e-02\n",
            " 4.25743905e-03 2.72081513e-03 2.07491171e-03 3.26310845e-03]\n",
            "EN\n",
            "[0.05905843 0.25698127 0.04660967 0.03576053 0.03032132 0.08022452\n",
            " 0.04794622 0.25286381 0.05001107 0.03405699 0.0741988  0.03196736]\n",
            "RU\n",
            "[1.40725207e-05 1.57515026e-03 1.17495154e-05 7.75252118e-06\n",
            " 5.57067945e-06 2.04064641e-05 1.29130645e-05 2.53488521e-05\n",
            " 1.87944827e-03 1.01154520e-05 1.68807967e-05 9.96420592e-01]\n",
            "BG\n",
            "[0.07016339 0.08005213 0.05307346 0.04131687 0.03641797 0.09590707\n",
            " 0.05529808 0.32347421 0.06249334 0.04089406 0.08757327 0.05333615]\n",
            "JA\n",
            "[1.01512070e-05 1.17832361e-05 8.16780937e-06 6.24424104e-06\n",
            " 4.79296183e-06 1.35278191e-05 8.50346856e-06 3.12517472e-05\n",
            " 1.00183115e-05 8.09204121e-06 9.99876891e-01 1.05764911e-05]\n",
            "FI\n",
            "[0.0256977  0.02840599 0.02141832 0.01645981 0.01135862 0.03426179\n",
            " 0.02199852 0.07865682 0.0226087  0.68622405 0.03162199 0.02128768]\n",
            "AR\n"
          ],
          "name": "stdout"
        }
      ]
    },
    {
      "cell_type": "markdown",
      "metadata": {
        "id": "P6aIaJ1anTe5"
      },
      "source": [
        "## Save links for future documentation"
      ]
    },
    {
      "cell_type": "code",
      "metadata": {
        "colab": {
          "background_save": true
        },
        "id": "ize4ZCiho_A6"
      },
      "source": [
        "#https://github.com/jeffheaton/present/blob/master/youtube/read_wikipedia.ipynb\n",
        "# https://stackoverflow.com/questions/18854620/whats-the-best-way-to-split-a-string-into-fixed-length-chunks-and-work-with-the/18854817\n",
        "#toto je komentar pro overeni githubu ten se ma ignorovat"
      ],
      "execution_count": null,
      "outputs": []
    },
    {
      "cell_type": "code",
      "metadata": {
        "colab": {
          "background_save": true
        },
        "id": "XVzll3E_Zu-A"
      },
      "source": [
        " "
      ],
      "execution_count": null,
      "outputs": []
    }
  ]
}