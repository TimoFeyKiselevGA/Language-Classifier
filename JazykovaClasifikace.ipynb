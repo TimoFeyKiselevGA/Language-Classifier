{
  "nbformat": 4,
  "nbformat_minor": 0,
  "metadata": {
    "colab": {
      "name": "JazykovaClasifikace.ipynb",
      "provenance": [],
      "collapsed_sections": [],
      "toc_visible": true,
      "authorship_tag": "ABX9TyPkQhuQJCwQqyZZ9aOnm4ZN",
      "include_colab_link": true
    },
    "kernelspec": {
      "display_name": "Python 3",
      "name": "python3"
    }
  },
  "cells": [
    {
      "cell_type": "markdown",
      "metadata": {
        "id": "view-in-github",
        "colab_type": "text"
      },
      "source": [
        "<a href=\"https://colab.research.google.com/github/TimoFeyKiselevGA/2020-e4-kiselev-Language-Classifier/blob/main/JazykovaClasifikace.ipynb\" target=\"_parent\"><img src=\"https://colab.research.google.com/assets/colab-badge.svg\" alt=\"Open In Colab\"/></a>"
      ]
    },
    {
      "cell_type": "markdown",
      "metadata": {
        "id": "H-mN8Xc3iIVT"
      },
      "source": [
        "# **Part 1, downloading and extracting texts** "
      ]
    },
    {
      "cell_type": "markdown",
      "metadata": {
        "id": "p1lk-zmwiqfz"
      },
      "source": [
        "## Imports and downloading"
      ]
    },
    {
      "cell_type": "code",
      "metadata": {
        "colab": {
          "base_uri": "https://localhost:8080/"
        },
        "id": "8YOojf48KxCQ",
        "outputId": "1e199eb8-c30e-441a-8428-379d86cf307c"
      },
      "source": [
        "import xml.etree.ElementTree as etree\n",
        "import codecs\n",
        "import csv\n",
        "import os\n",
        "import pandas as pd\n",
        "import pickle\n",
        "import re\n",
        "%load_ext google.colab.data_table\n",
        "import os\n",
        "import gc\n",
        "import psutil\n",
        "!pip3 install -U scikit-learn\n",
        "\n",
        "pd.set_option('display.max_colwidth', -1)"
      ],
      "execution_count": null,
      "outputs": [
        {
          "output_type": "stream",
          "text": [
            "The google.colab.data_table extension is already loaded. To reload it, use:\n",
            "  %reload_ext google.colab.data_table\n",
            "Requirement already up-to-date: scikit-learn in /usr/local/lib/python3.7/dist-packages (0.24.1)\n",
            "Requirement already satisfied, skipping upgrade: scipy>=0.19.1 in /usr/local/lib/python3.7/dist-packages (from scikit-learn) (1.4.1)\n",
            "Requirement already satisfied, skipping upgrade: numpy>=1.13.3 in /usr/local/lib/python3.7/dist-packages (from scikit-learn) (1.19.5)\n",
            "Requirement already satisfied, skipping upgrade: joblib>=0.11 in /usr/local/lib/python3.7/dist-packages (from scikit-learn) (1.0.1)\n",
            "Requirement already satisfied, skipping upgrade: threadpoolctl>=2.0.0 in /usr/local/lib/python3.7/dist-packages (from scikit-learn) (2.1.0)\n"
          ],
          "name": "stdout"
        },
        {
          "output_type": "stream",
          "text": [
            "/usr/local/lib/python3.7/dist-packages/ipykernel_launcher.py:14: FutureWarning: Passing a negative integer is deprecated in version 1.0 and will not be supported in future version. Instead, use None to not limit the column width.\n",
            "  \n"
          ],
          "name": "stderr"
        }
      ]
    },
    {
      "cell_type": "code",
      "metadata": {
        "id": "WRu5E6J63wnX"
      },
      "source": [
        "languages_to_download = {\n",
        "  \"CZ\": True,\n",
        "  \"RU\": True,\n",
        "  \"FR\": True,\n",
        "  \"DE\": True,\n",
        "  \"EN\": True,\n",
        "  \"PL\": True,\n",
        "  \"IT\": True,\n",
        "\n",
        "  \"UK\": True,\n",
        "  \n",
        "  \"FI\": True,\n",
        "  \"BG\": True,\n",
        "  \"ES\":True,\n",
        "  \"PT\":True,\n",
        "}\n",
        "\n",
        "languages_links = {\n",
        "    \n",
        "    \"CZ\": \"https://dumps.wikimedia.org/cswiki/20210120/cswiki-20210120-pages-articles.xml.bz2\",\n",
        "    \"RU\": \"https://dumps.wikimedia.org/ruwiki/20210101/ruwiki-20210101-pages-articles-multistream5.xml-p3835773p5335772.bz2\",\n",
        "    \"FR\": \"https://dumps.wikimedia.org/frwiki/20210101/frwiki-20210101-pages-articles-multistream2.xml-p306135p1050822.bz2\",\n",
        "    \"DE\": \"https://dumps.wikimedia.org/dewiki/20210101/dewiki-20210101-pages-articles-multistream6.xml-p9261245p10761244.bz2\",\n",
        "    \"EN\": \"https://dumps.wikimedia.org/enwiki/20210101/enwiki-20210101-pages-articles-multistream9.xml-p2936261p4045402.bz2\",\n",
        "    \"PL\": \"https://dumps.wikimedia.org/plwiki/20210101/plwiki-20210101-pages-articles-multistream4.xml-p1199519p2047892.bz2\",\n",
        "    \"IT\": \"https://dumps.wikimedia.org/itwiki/20210101/itwiki-20210101-pages-articles-multistream4.xml-p2206775p3593336.bz2\",\n",
        "    # \"JA\": \"https://dumps.wikimedia.org/jawiki/20210101/jawiki-20210101-pages-articles-multistream5.xml-p1721647p2807947.bz2\",\n",
        "    \"UK\": \"https://dumps.wikimedia.org/ukwiki/20210120/ukwiki-20210120-pages-articles-multistream4.xml-p987986p1674442.bz2\",\n",
        "    # \"AR\": \"https://dumps.wikimedia.org/arwiki/20210120/arwiki-20210120-pages-articles-multistream4.xml-p2482316p3982315.bz2\",\n",
        "    \"FI\": \"https://dumps.wikimedia.org/fiwiki/20210120/fiwiki-20210120-pages-articles-multistream.xml.bz2\",\n",
        "    \"BG\": \"https://dumps.wikimedia.org/bgwiki/20210120/bgwiki-20210120-pages-articles-multistream.xml.bz2\",\n",
        "    \"ES\":\"https://dumps.wikimedia.org/eswiki/20210320/eswiki-20210320-pages-articles-multistream5.xml-p4566829p6066828.bz2\",\n",
        "    \"PT\":\"https://dumps.wikimedia.org/ptwiki/20210320/ptwiki-20210320-pages-articles-multistream6.xml-p5024909p6524729.bz2\",\n",
        "}\n",
        "\n",
        "languages = ['CZ', 'RU', 'FR', 'DE', 'EN', 'PL', 'IT', \"UK\", \"FI\", \"BG\",\"ES\",\"PT\"]\n",
        "languages_to_process = {\n",
        "  \"CZ\": True,\n",
        "  \"RU\": True,\n",
        "  \"FR\": True,\n",
        "  \"DE\": True,\n",
        "  \"EN\": True,\n",
        "  \"PL\": True,\n",
        "  \"IT\": True,\n",
        "\n",
        "  \"UK\": True,\n",
        "  \n",
        "  \"FI\": True,\n",
        "  \"BG\": True,\n",
        "  \"ES\":True,\n",
        "  \"PT\":True,\n",
        "}"
      ],
      "execution_count": null,
      "outputs": []
    },
    {
      "cell_type": "code",
      "metadata": {
        "id": "PiFuGtTTQ042"
      },
      "source": [
        "def rename(s):\n",
        "    return languages_links[s].split(\"/\")[len(languages_links[s].split(\"/\"))-1].split(\".\")[0]+ \".\" +languages_links[s].split(\"/\")[len(languages_links[s].split(\"/\"))-1].split(\".\")[1]"
      ],
      "execution_count": null,
      "outputs": []
    },
    {
      "cell_type": "code",
      "metadata": {
        "colab": {
          "base_uri": "https://localhost:8080/"
        },
        "id": "Uw3Q5CnA5G3f",
        "outputId": "1a694871-b7d7-4bdd-b63f-4b7d37ee087d"
      },
      "source": [
        "for lang in languages:\n",
        "    if languages_to_download[lang]:\n",
        "        print(\"downloading \" + lang)\n",
        "        os.system(\"wget \" + languages_links[lang])\n",
        "        print(\"extracting \" + lang)\n",
        "        os.system(\"bzip2 -d ./ \" + languages_links[lang].split(\"/\")[len(languages_links[lang].split(\"/\"))-1])\n",
        "        os.system(\"mv \" + rename(lang) + \" \" + languages_links[lang].split(\"/\")[len(languages_links[lang].split(\"/\"))-1].split(\".\")[0] + \".xml\")\n"
      ],
      "execution_count": null,
      "outputs": [
        {
          "output_type": "stream",
          "text": [
            "downloading CZ\n",
            "extracting CZ\n",
            "downloading RU\n",
            "extracting RU\n",
            "downloading FR\n",
            "extracting FR\n",
            "downloading DE\n",
            "extracting DE\n",
            "downloading EN\n",
            "extracting EN\n",
            "downloading PL\n",
            "extracting PL\n",
            "downloading IT\n",
            "extracting IT\n",
            "downloading UK\n",
            "extracting UK\n",
            "downloading FI\n",
            "extracting FI\n",
            "downloading BG\n",
            "extracting BG\n",
            "downloading ES\n",
            "extracting ES\n",
            "downloading PT\n",
            "extracting PT\n"
          ],
          "name": "stdout"
        }
      ]
    },
    {
      "cell_type": "markdown",
      "metadata": {
        "id": "vuco0Gr-jtNW"
      },
      "source": [
        "## Creating pkl files with texts without most special chars. from xmls."
      ]
    },
    {
      "cell_type": "code",
      "metadata": {
        "id": "sOPR-DtIdlJR"
      },
      "source": [
        "def strip_tag_name(t):\n",
        "    idx = k = t.rfind(\"}\")\n",
        "    if idx != -1:\n",
        "        t = t[idx + 1:]\n",
        "    return t"
      ],
      "execution_count": null,
      "outputs": []
    },
    {
      "cell_type": "code",
      "metadata": {
        "id": "4JuCrnVngyfE"
      },
      "source": [
        "def articles_to_csv(totalCount):\n",
        "    with codecs.open(pathTexts, \"w\", ENCODING) as textsFH:\n",
        "        textWriter = csv.writer(textsFH, quoting=csv.QUOTE_MINIMAL)\n",
        "        textWriter.writerow(['text'])\n",
        "        for event, elem in etree.iterparse(pathWikiXML, events=('start', 'end')):\n",
        "            tname = strip_tag_name(elem.tag)\n",
        "            if event == 'start':\n",
        "                if tname == 'page':\n",
        "                    title = ''\n",
        "                    id = -1\n",
        "                    redirect = ''\n",
        "                    inrevision = False\n",
        "                    ns = 0\n",
        "                    text = ''\n",
        "                elif tname == 'text':\n",
        "                    text = elem.text\n",
        "                    textWriter.writerow([text])\n",
        "                elif tname == 'page':\n",
        "                    totalCount += 1\n",
        "                if totalCount > 1 and (totalCount % 100000) == 0:\n",
        "                    print(\"{:,}\".format(totalCount))\n",
        "            elem.clear()"
      ],
      "execution_count": null,
      "outputs": []
    },
    {
      "cell_type": "code",
      "metadata": {
        "colab": {
          "base_uri": "https://localhost:8080/"
        },
        "id": "ip12b-8RUsLV",
        "outputId": "589a3677-b11b-4268-d970-466999c2c609"
      },
      "source": [
        "for lang in languages:\n",
        "    if languages_to_process[lang]:\n",
        "        print(lang)\n",
        "        PATH_WIKI_XML = './'\n",
        "        FILENAME_WIKI = languages_links[lang].split(\"/\")[len(languages_links[lang].split(\"/\"))-1].split('.')[0] + '.xml'\n",
        "        texts_template = 'temp.csv'\n",
        "        ENCODING = \"utf-8\"\n",
        "        pathWikiXML = os.path.join(PATH_WIKI_XML, FILENAME_WIKI)\n",
        "        pathTexts = os.path.join(PATH_WIKI_XML, texts_template)\n",
        "        totalCount = 0\n",
        "        articleCount = 0\n",
        "        title = None\n",
        "        articles_to_csv(totalCount)\n",
        "        a = pd.read_csv('temp.csv')\n",
        "        a = a.dropna()\n",
        "        a['text'] = a['text'].str.replace(',|\\$|\\{|\\}|\\-|\\+|\\[|\\]|\\\\n|\\<|\\>|\\\"|\\=|\\:|\\;|\\*|\\||\\#|\\$|\\(|\\)|\\/|\\.|\\–|\\_|\\«|\\»|\\—|\\!|\\&|\\?|\\`|\\~|\\%|\\@|\\¡|\\™|\\£|\\¢|\\∞|\\§|\\¶|\\•|\\ª|\\º|\\–|\\≠|\\«|\\æ|\\÷|\\≥|\\≤|\\÷|\\»|\\\\|\\^|\\ˆ|\\|\\\\|\\||\\）|\\（|\\、|\\'', ' ')\n",
        "        a['text'] = a['text'].str.replace('\\d+', '')\n",
        "        a['text'] = a['text'].str.replace('\\s\\s+' , ' ')\n",
        "        a = a.drop([a.index[0]])\n",
        "        a = a.reset_index(drop=True)\n",
        "        a['text'] = a['text'].str.lower()\n",
        "        a.to_pickle(\"./texts_\" + lang +  \".pkl\")\n",
        "        "
      ],
      "execution_count": null,
      "outputs": [
        {
          "output_type": "stream",
          "text": [
            "CZ\n",
            "RU\n",
            "FR\n",
            "DE\n",
            "EN\n",
            "PL\n",
            "IT\n",
            "UK\n",
            "FI\n",
            "BG\n",
            "ES\n",
            "PT\n"
          ],
          "name": "stdout"
        }
      ]
    },
    {
      "cell_type": "code",
      "metadata": {
        "id": "eY2d3zSHC85E"
      },
      "source": [
        "%reset -f"
      ],
      "execution_count": null,
      "outputs": []
    },
    {
      "cell_type": "markdown",
      "metadata": {
        "id": "Z-x6PwcnkRXa"
      },
      "source": [
        "# **Part 2: Dataset preparation**"
      ]
    },
    {
      "cell_type": "markdown",
      "metadata": {
        "id": "kMSTAFOOknpp"
      },
      "source": [
        "## Imports and settings"
      ]
    },
    {
      "cell_type": "code",
      "metadata": {
        "colab": {
          "base_uri": "https://localhost:8080/"
        },
        "id": "vKHpKVe21ZzK",
        "outputId": "998f8756-650d-47bc-9f13-e2b2a3c89172"
      },
      "source": [
        "!pip3 install -U scikit-learn\n",
        "import xml.etree.ElementTree as etree\n",
        "import codecs\n",
        "import csv\n",
        "import os\n",
        "import pandas as pd\n",
        "import pickle\n",
        "import re\n",
        "%load_ext google.colab.data_table\n",
        "import os\n",
        "import gc\n",
        "import psutil\n",
        "import numpy as np\n",
        "import random\n",
        "#random seeds\n",
        "random.seed(0)\n",
        "np.random.seed(0)\n",
        "\n",
        "pd.set_option('display.max_colwidth', -1)\n",
        "\n",
        "languages = ['CZ', 'RU', 'FR', 'DE', 'EN', 'PL', 'IT', \"UK\", \"FI\", \"BG\",\"ES\",\"PT\"]\n",
        "languages_to_process = {\n",
        "   \"CZ\": True,\n",
        "  \"RU\": True,\n",
        "  \"FR\": True,\n",
        "  \"DE\": True,\n",
        "  \"EN\": True,\n",
        "  \"PL\": True,\n",
        "  \"IT\": True,\n",
        "\n",
        "  \"UK\": True,\n",
        "  \n",
        "  \"FI\": True,\n",
        "  \"BG\": True,\n",
        "  \"ES\":True,\n",
        "  \"PT\":True,\n",
        "}"
      ],
      "execution_count": null,
      "outputs": [
        {
          "output_type": "stream",
          "text": [
            "Requirement already up-to-date: scikit-learn in /usr/local/lib/python3.7/dist-packages (0.24.1)\n",
            "Requirement already satisfied, skipping upgrade: threadpoolctl>=2.0.0 in /usr/local/lib/python3.7/dist-packages (from scikit-learn) (2.1.0)\n",
            "Requirement already satisfied, skipping upgrade: scipy>=0.19.1 in /usr/local/lib/python3.7/dist-packages (from scikit-learn) (1.4.1)\n",
            "Requirement already satisfied, skipping upgrade: numpy>=1.13.3 in /usr/local/lib/python3.7/dist-packages (from scikit-learn) (1.19.5)\n",
            "Requirement already satisfied, skipping upgrade: joblib>=0.11 in /usr/local/lib/python3.7/dist-packages (from scikit-learn) (1.0.1)\n",
            "The google.colab.data_table extension is already loaded. To reload it, use:\n",
            "  %reload_ext google.colab.data_table\n"
          ],
          "name": "stdout"
        },
        {
          "output_type": "stream",
          "text": [
            "/usr/local/lib/python3.7/dist-packages/ipykernel_launcher.py:19: FutureWarning: Passing a negative integer is deprecated in version 1.0 and will not be supported in future version. Instead, use None to not limit the column width.\n"
          ],
          "name": "stderr"
        }
      ]
    },
    {
      "cell_type": "markdown",
      "metadata": {
        "id": "3r5l2xqgk8N7"
      },
      "source": [
        "## Dataset creation"
      ]
    },
    {
      "cell_type": "code",
      "metadata": {
        "id": "PHfk50TfuGwH"
      },
      "source": [
        "def chunkstring(string, length):\n",
        "    return re.findall('.{%d}' % length, string)\n",
        "\n",
        "def toPickleLoadList(string, textList):\n",
        "    file_name = \"texts_\" + string + \"_prep.pkl\"\n",
        "    open_file = open(file_name, \"wb\")\n",
        "    pickle.dump(textList, open_file)\n",
        "    open_file.close()\n",
        "    print(\"done \" + lang)\n",
        "\n",
        "def fromPickleLoadList(string):\n",
        "    file_name = \"texts_\" + string + \"_prep.pkl\"\n",
        "    open_file = open(file_name, \"rb\")\n",
        "    loaded_list = pickle.load(open_file)\n",
        "    open_file.close()\n",
        "    return loaded_list\n",
        "\n",
        "def chunkDataFrames(lang):\n",
        "    print(\"start \" + lang)\n",
        "    df = pd.read_pickle(\"./texts_\"+ lang + \".pkl\")\n",
        "    df = df[df['text'].apply(lambda x: len(x)>100)]\n",
        "    # df = df[~df.text.str.startswith(' redirect', na=True)]\n",
        "    df.text = df.text.replace('\\s+', ' ', regex=True)\n",
        "    df = df.text.str.cat(sep='')\n",
        "    textList = chunkstring(df, 200)\n",
        "    toPickleLoadList(lang, textList)\n",
        "    del df;  gc.collect()\n",
        "    del textList;  gc.collect()\n"
      ],
      "execution_count": null,
      "outputs": []
    },
    {
      "cell_type": "code",
      "metadata": {
        "colab": {
          "base_uri": "https://localhost:8080/"
        },
        "id": "Zoaj3NtCUsQ0",
        "outputId": "f9ce3fad-a4b7-4b75-d0d3-602d2eaa25c6"
      },
      "source": [
        "for lang in languages:\n",
        "    if languages_to_process[lang]:\n",
        "        chunkDataFrames(lang)\n",
        "    "
      ],
      "execution_count": 22,
      "outputs": [
        {
          "output_type": "stream",
          "text": [
            "start CZ\n",
            "done CZ\n",
            "start RU\n",
            "done RU\n",
            "start FR\n",
            "done FR\n",
            "start DE\n",
            "done DE\n",
            "start EN\n",
            "done EN\n",
            "start PL\n",
            "done PL\n",
            "start IT\n",
            "done IT\n",
            "start UK\n",
            "done UK\n",
            "start FI\n",
            "done FI\n",
            "start BG\n",
            "done BG\n",
            "start ES\n",
            "done ES\n",
            "start PT\n",
            "done PT\n"
          ],
          "name": "stdout"
        }
      ]
    },
    {
      "cell_type": "code",
      "metadata": {
        "id": "kSAg50zD22fS"
      },
      "source": [
        "from sklearn.utils import shuffle\n",
        "text_to_tokens = []\n",
        "id_lang = []\n",
        "id = 0\n",
        "delka = 100000\n",
        "\n",
        "for lang in languages:\n",
        "    df = shuffle(fromPickleLoadList(lang))\n",
        "    df = df[:delka]\n",
        "    id_lang = id_lang + [id] * delka\n",
        "    id = id + 1\n",
        "    text_to_tokens = text_to_tokens + df"
      ],
      "execution_count": 23,
      "outputs": []
    },
    {
      "cell_type": "code",
      "metadata": {
        "id": "eUZJFcaR23sJ"
      },
      "source": [
        "data_tuples = list(zip(text_to_tokens,id_lang))\n",
        "df = pd.DataFrame(data_tuples, columns=['X','Y'])"
      ],
      "execution_count": 24,
      "outputs": []
    },
    {
      "cell_type": "code",
      "metadata": {
        "id": "AnOvuHQu3t5Z"
      },
      "source": [
        "df = shuffle(df)"
      ],
      "execution_count": 25,
      "outputs": []
    },
    {
      "cell_type": "code",
      "metadata": {
        "id": "Jq5-HUCm2eAN",
        "colab": {
          "base_uri": "https://localhost:8080/",
          "height": 193
        },
        "outputId": "88b6409d-0765-456d-96d1-5f0ccc25e18a"
      },
      "source": [
        "df.head()"
      ],
      "execution_count": 26,
      "outputs": [
        {
          "output_type": "execute_result",
          "data": {
            "application/vnd.google.colaboratory.module+javascript": "\n      import \"https://ssl.gstatic.com/colaboratory/data_table/a6224c040fa35dcf/data_table.js\";\n\n      window.createDataTable({\n        data: [[{\n            'v': 705082,\n            'f': \"705082\",\n        },\n\"\\u0430\\u043d\\u0430 \\u043e\\u0441\\u043e\\u0431\\u0438\\u0441\\u0442\\u0456\\u0441\\u0442\\u044c \\u043f\\u043e\\u0440\\u0442\\u0430\\u043b \\u043c\\u0438\\u0441\\u0442\\u0435\\u0446\\u0442\\u0432\\u043e \\u0432\\u0438\\u0431\\u0440\\u0430\\u043d\\u0430 \\u043e\\u0441\\u043e\\u0431\\u0438\\u0441\\u0442\\u0456\\u0441\\u0442\\u044c br \\u043f\\u043e\\u0440\\u0442\\u0430\\u043b \\u043c\\u0438\\u0441\\u0442\\u0435\\u0446\\u0442\\u0432\\u043e \\u0432\\u0438\\u0431\\u0440\\u0430\\u043d\\u0430 \\u043e\\u0441\\u043e\\u0431\\u0438\\u0441\\u0442\\u0456\\u0441\\u0442\\u044c \\u043f\\u043e\\u0440\\u0442\\u0430\\u043b \\u043c\\u0438\\u0441\\u0442\\u0435\\u0446\\u0442\\u0432\\u043e \\u0432\\u0438\\u0431\\u0440\\u0430\\u043d\\u0430 \\u043e\\u0441\\u043e\\u0431\\u0438\\u0441\\u0442\\u0456\\u0441\\u0442\\u044c br \\u043f\\u043e\\u0440\\u0442\\u0430\\u043b \\u043c\\u0438\\u0441\\u0442\\u0435\\u0446\\u0442\\u0432\\u043e \\u0432\\u0438\\u0431\\u0440\\u0430\\u043d\\u0430 \\u043e\\u0441\\u043e\\u0431\\u0438\\u0441\\u0442\\u0456\\u0441\\u0442\\u044c \\u043f\\u043e\\u0440\\u0442\\u0430\\u043b \\u043c\\u0438\\u0441\\u0442\\u0435\\u0446\\u0442\\u0432\\u043e \\u0432\\u0438\\u0431\\u0440\\u0430\\u043d\\u0430 \\u043e\\u0441\\u043e\\u0431\\u0438\",\n{\n            'v': 7,\n            'f': \"7\",\n        }],\n [{\n            'v': 657029,\n            'f': \"657029\",\n        },\n\"bawinkel coa png voce stemma stato deu grado amministrativo tipo comuni della germania comune apparten a un comunit\\u00e0 amministrative della germania samtgemeinde divisione amm grado bassa sassonia divis\",\n{\n            'v': 6,\n            'f': \"6\",\n        }],\n [{\n            'v': 962911,\n            'f': \"962911\",\n        },\n\" \\u043f\\u043e \\u043a\\u044a\\u0441\\u043d\\u043e \\u043e\\u0442\\u043a\\u0430\\u0437\\u0430\\u043d\\u0430\\u0442\\u0430 \\u0431\\u0430\\u043b\\u0438\\u0441\\u0438\\u0442\\u0438\\u0447\\u043d\\u0430 \\u0440\\u0430\\u043a\\u0435\\u0442\\u0430 \\u0443\\u0440 \\u0441\\u0442\\u0430\\u0432\\u0430 \\u043e\\u0441\\u043d\\u043e\\u0432\\u0430 \\u0437\\u0430 \\u0440\\u0430\\u0437\\u0440\\u0430\\u0431\\u043e\\u0442\\u0432\\u0430\\u043d\\u0435\\u0442\\u043e \\u043d\\u0430 \\u0440\\u0430\\u043a\\u0435\\u0442\\u0438 \\u043f\\u0440\\u043e\\u0442\\u043e\\u043d \\u0440\\u0430\\u043a\\u0435\\u0442\\u0430 \\u201e\\u043f\\u0440\\u043e\\u0442\\u043e\\u043d\\u201c \\u0443\\u0440 \\u043e\\u0441\\u043d\\u043e\\u0432\\u043d\\u0430 \\u0443\\u0440 \\u0443\\u0440 \\u0435 \\u043c\\u0435\\u0436\\u0434\\u0443\\u043a\\u043e\\u043d\\u0442\\u0438\\u043d\\u0435\\u043d\\u0442\\u0430\\u043b\\u043d\\u0430 \\u0431\\u0430\\u043b\\u0438\\u0441\\u0442\\u0438\\u0447\\u043d\\u0430 \\u0440\\u0430\\u043a\\u0435\\u0442\\u0430 \\u043c\\u043a\\u0431\\u0440 \\u0442\\u044f \\u0435 \\u0442\\u0435\\u0447\\u043d\\u043e\\u0433\\u043e\\u0440\\u0438\\u0432\\u043d\\u0430 \\u0438\\u043c\\u0430 \\u0441\\u0442\\u0435\\u043f\\u0435\\u043d\\u0438 \\u0438\\u0437\",\n{\n            'v': 9,\n            'f': \"9\",\n        }],\n [{\n            'v': 930088,\n            'f': \"930088\",\n        },\n\"solea plebeia \\u0435 \\u0432\\u0438\\u0434 \\u043b\\u044a\\u0447\\u0435\\u043f\\u0435\\u0440\\u043a\\u0430 \\u043e\\u0442 \\u0441\\u0435\\u043c\\u0435\\u0439\\u0441\\u0442\\u0432\\u043e pleuronectidae \\u0440\\u0430\\u0437\\u043f\\u0440\\u043e\\u0441\\u0442\\u0440\\u0430\\u043d\\u0435\\u043d\\u0438\\u0435 \\u0432\\u0438\\u0434\\u044a\\u0442 \\u0435 \\u0440\\u0430\\u0437\\u043f\\u0440\\u043e\\u0441\\u0442\\u0440\\u0430\\u043d\\u0435\\u043d \\u0432 \\u043d\\u043e\\u0432\\u0430 \\u0437\\u0435\\u043b\\u0430\\u043d\\u0434\\u0438\\u044f \\u0441\\u0435\\u0432\\u0435\\u0440\\u0435\\u043d \\u043e\\u0441\\u0442\\u0440\\u043e\\u0432 \\u043d\\u043e\\u0432\\u0430 \\u0437\\u0435\\u043b\\u0430\\u043d\\u0434\\u0438\\u044f \\u0441\\u0435\\u0432\\u0435\\u0440\\u0435\\u043d \\u043e\\u0441\\u0442\\u0440\\u043e\\u0432 \\u0438 \\u044e\\u0436\\u0435\\u043d \\u043e\\u0441\\u0442\\u0440\\u043e\\u0432 \\u043d\\u043e\\u0432\\u0430 \\u0437\\u0435\\u043b\\u0430\\u043d\\u0434\\u0438\\u044f \\u044e\\u0436\\u0435\\u043d \\u043e\\u0441\\u0442\\u0440\\u043e\\u0432 ref \",\n{\n            'v': 9,\n            'f': \"9\",\n        }],\n [{\n            'v': 830942,\n            'f': \"830942\",\n        },\n\"ieto isbn www https finna fi record alli kirjaviite tekij\\u00e4 kivel\\u00e4 simo k nimeke matlab opas vuosi selite sivua julkaisupaikka helsinki julkaisija otatieto isbn isbn www https finna fi record alli kirj\",\n{\n            'v': 8,\n            'f': \"8\",\n        }]],\n        columns: [[\"number\", \"index\"], [\"string\", \"X\"], [\"number\", \"Y\"]],\n        columnOptions: [{\"width\": \"1px\", \"className\": \"index_column\"}],\n        rowsPerPage: 25,\n        helpUrl: \"https://colab.research.google.com/notebooks/data_table.ipynb\",\n        suppressOutputScrolling: true,\n        minimumWidth: undefined,\n      });\n    ",
            "text/html": [
              "<div>\n",
              "<style scoped>\n",
              "    .dataframe tbody tr th:only-of-type {\n",
              "        vertical-align: middle;\n",
              "    }\n",
              "\n",
              "    .dataframe tbody tr th {\n",
              "        vertical-align: top;\n",
              "    }\n",
              "\n",
              "    .dataframe thead th {\n",
              "        text-align: right;\n",
              "    }\n",
              "</style>\n",
              "<table border=\"1\" class=\"dataframe\">\n",
              "  <thead>\n",
              "    <tr style=\"text-align: right;\">\n",
              "      <th></th>\n",
              "      <th>X</th>\n",
              "      <th>Y</th>\n",
              "    </tr>\n",
              "  </thead>\n",
              "  <tbody>\n",
              "    <tr>\n",
              "      <th>705082</th>\n",
              "      <td>ана особистість портал мистецтво вибрана особистість br портал мистецтво вибрана особистість портал мистецтво вибрана особистість br портал мистецтво вибрана особистість портал мистецтво вибрана особи</td>\n",
              "      <td>7</td>\n",
              "    </tr>\n",
              "    <tr>\n",
              "      <th>657029</th>\n",
              "      <td>bawinkel coa png voce stemma stato deu grado amministrativo tipo comuni della germania comune apparten a un comunità amministrative della germania samtgemeinde divisione amm grado bassa sassonia divis</td>\n",
              "      <td>6</td>\n",
              "    </tr>\n",
              "    <tr>\n",
              "      <th>962911</th>\n",
              "      <td>по късно отказаната балиситична ракета ур става основа за разработването на ракети протон ракета „протон“ ур основна ур ур е междуконтинентална балистична ракета мкбр тя е течногоривна има степени из</td>\n",
              "      <td>9</td>\n",
              "    </tr>\n",
              "    <tr>\n",
              "      <th>930088</th>\n",
              "      <td>solea plebeia е вид лъчеперка от семейство pleuronectidae разпространение видът е разпространен в нова зеландия северен остров нова зеландия северен остров и южен остров нова зеландия южен остров ref</td>\n",
              "      <td>9</td>\n",
              "    </tr>\n",
              "    <tr>\n",
              "      <th>830942</th>\n",
              "      <td>ieto isbn www https finna fi record alli kirjaviite tekijä kivelä simo k nimeke matlab opas vuosi selite sivua julkaisupaikka helsinki julkaisija otatieto isbn isbn www https finna fi record alli kirj</td>\n",
              "      <td>8</td>\n",
              "    </tr>\n",
              "  </tbody>\n",
              "</table>\n",
              "</div>"
            ],
            "text/plain": [
              "                                                                                                                                                                                                               X  Y\n",
              "705082  ана особистість портал мистецтво вибрана особистість br портал мистецтво вибрана особистість портал мистецтво вибрана особистість br портал мистецтво вибрана особистість портал мистецтво вибрана особи  7\n",
              "657029  bawinkel coa png voce stemma stato deu grado amministrativo tipo comuni della germania comune apparten a un comunità amministrative della germania samtgemeinde divisione amm grado bassa sassonia divis  6\n",
              "962911   по късно отказаната балиситична ракета ур става основа за разработването на ракети протон ракета „протон“ ур основна ур ур е междуконтинентална балистична ракета мкбр тя е течногоривна има степени из  9\n",
              "930088  solea plebeia е вид лъчеперка от семейство pleuronectidae разпространение видът е разпространен в нова зеландия северен остров нова зеландия северен остров и южен остров нова зеландия южен остров ref   9\n",
              "830942  ieto isbn www https finna fi record alli kirjaviite tekijä kivelä simo k nimeke matlab opas vuosi selite sivua julkaisupaikka helsinki julkaisija otatieto isbn isbn www https finna fi record alli kirj  8"
            ]
          },
          "metadata": {
            "tags": []
          },
          "execution_count": 26
        }
      ]
    },
    {
      "cell_type": "markdown",
      "metadata": {
        "id": "73LzfF4MlJK3"
      },
      "source": [
        "# Part 3: Model training"
      ]
    },
    {
      "cell_type": "markdown",
      "metadata": {
        "id": "Wl-5id2CleXj"
      },
      "source": [
        "## Imports and settings\n"
      ]
    },
    {
      "cell_type": "code",
      "metadata": {
        "id": "_7-BTIAZNHjO",
        "colab": {
          "base_uri": "https://localhost:8080/"
        },
        "outputId": "2404e587-e276-4de7-da67-9e4b78ba2d5e"
      },
      "source": [
        "!pip3 install -U scikit-learn"
      ],
      "execution_count": 27,
      "outputs": [
        {
          "output_type": "stream",
          "text": [
            "Requirement already up-to-date: scikit-learn in /usr/local/lib/python3.7/dist-packages (0.24.1)\n",
            "Requirement already satisfied, skipping upgrade: joblib>=0.11 in /usr/local/lib/python3.7/dist-packages (from scikit-learn) (1.0.1)\n",
            "Requirement already satisfied, skipping upgrade: threadpoolctl>=2.0.0 in /usr/local/lib/python3.7/dist-packages (from scikit-learn) (2.1.0)\n",
            "Requirement already satisfied, skipping upgrade: scipy>=0.19.1 in /usr/local/lib/python3.7/dist-packages (from scikit-learn) (1.4.1)\n",
            "Requirement already satisfied, skipping upgrade: numpy>=1.13.3 in /usr/local/lib/python3.7/dist-packages (from scikit-learn) (1.19.5)\n"
          ],
          "name": "stdout"
        }
      ]
    },
    {
      "cell_type": "code",
      "metadata": {
        "id": "AkDJCvxt8BsX"
      },
      "source": [
        "from sklearn.model_selection import train_test_split\n",
        "train, test = train_test_split(df, test_size=0.3)"
      ],
      "execution_count": 28,
      "outputs": []
    },
    {
      "cell_type": "code",
      "metadata": {
        "id": "VXmkpo5X4n6I"
      },
      "source": [
        "from sklearn.feature_extraction.text import TfidfVectorizer\n",
        "from sklearn.pipeline import Pipeline\n",
        "from sklearn.linear_model import LogisticRegression\n",
        "import torch\n",
        "from torch import nn\n",
        "from torch.nn import functional as F\n",
        "from sklearn.metrics import accuracy_score\n"
      ],
      "execution_count": 29,
      "outputs": []
    },
    {
      "cell_type": "markdown",
      "metadata": {
        "id": "sUO_CLzElweI"
      },
      "source": [
        "## Model creation and training"
      ]
    },
    {
      "cell_type": "code",
      "metadata": {
        "id": "ZkjNu2mk42cr"
      },
      "source": [
        "def simple_tokenizer(txt, min_len=3):\n",
        "    all_tokens = re.compile(r'[\\w\\d]+').findall(txt)\n",
        "    all_tokens = [x.lower() for x in all_tokens]\n",
        "    return [token for token in all_tokens if len(token) >= min_len]"
      ],
      "execution_count": 30,
      "outputs": []
    },
    {
      "cell_type": "code",
      "metadata": {
        "id": "xqQqkh_K4oAY"
      },
      "source": [
        "sklearn_pipeline = Pipeline((('vect', TfidfVectorizer(tokenizer=simple_tokenizer,\n",
        "                                                      max_df=0.8,\n",
        "                                                      min_df=50)),\n",
        "                             ('cls', LogisticRegression())))"
      ],
      "execution_count": 49,
      "outputs": []
    },
    {
      "cell_type": "code",
      "metadata": {
        "id": "NK7ZUCei4oH3",
        "colab": {
          "base_uri": "https://localhost:8080/"
        },
        "outputId": "9c781f28-d161-4f9d-ba66-b61d98281db5"
      },
      "source": [
        "sklearn_pipeline.fit(train['X'].to_numpy(), train['Y'].to_numpy())"
      ],
      "execution_count": 50,
      "outputs": [
        {
          "output_type": "stream",
          "text": [
            "/usr/local/lib/python3.7/dist-packages/sklearn/linear_model/_logistic.py:765: ConvergenceWarning: lbfgs failed to converge (status=1):\n",
            "STOP: TOTAL NO. of ITERATIONS REACHED LIMIT.\n",
            "\n",
            "Increase the number of iterations (max_iter) or scale the data as shown in:\n",
            "    https://scikit-learn.org/stable/modules/preprocessing.html\n",
            "Please also refer to the documentation for alternative solver options:\n",
            "    https://scikit-learn.org/stable/modules/linear_model.html#logistic-regression\n",
            "  extra_warning_msg=_LOGISTIC_SOLVER_CONVERGENCE_MSG)\n"
          ],
          "name": "stderr"
        },
        {
          "output_type": "execute_result",
          "data": {
            "text/plain": [
              "Pipeline(steps=[('vect',\n",
              "                 TfidfVectorizer(max_df=0.8, min_df=50,\n",
              "                                 tokenizer=<function simple_tokenizer at 0x7f11f71ef0e0>)),\n",
              "                ('cls', LogisticRegression())])"
            ]
          },
          "metadata": {
            "tags": []
          },
          "execution_count": 50
        }
      ]
    },
    {
      "cell_type": "code",
      "metadata": {
        "id": "TCDsuy8I4oOV"
      },
      "source": [
        "sklearn_train_pred = sklearn_pipeline.predict_proba(train['X'].to_numpy())\n",
        "sklearn_train_loss = F.cross_entropy(torch.from_numpy(sklearn_train_pred),\n",
        "                                                 torch.from_numpy(train['Y'].to_numpy()))"
      ],
      "execution_count": 51,
      "outputs": []
    },
    {
      "cell_type": "code",
      "metadata": {
        "id": "56-lC6Y36Hqf",
        "colab": {
          "base_uri": "https://localhost:8080/"
        },
        "outputId": "328459d2-773f-44fc-df93-d2ec1ac84e9a"
      },
      "source": [
        "print('train loss', float(sklearn_train_loss))\n",
        "print('acc', accuracy_score(train['Y'], sklearn_train_pred.argmax(-1)))\n",
        "print()"
      ],
      "execution_count": 52,
      "outputs": [
        {
          "output_type": "stream",
          "text": [
            "train loss 1.6938838281427884\n",
            "acc 0.9702821428571429\n",
            "\n"
          ],
          "name": "stdout"
        }
      ]
    },
    {
      "cell_type": "code",
      "metadata": {
        "id": "5F96hEHY6Hxz"
      },
      "source": [
        "sklearn_test_pred = sklearn_pipeline.predict_proba(test['X'].to_numpy())\n",
        "sklearn_test_loss = F.cross_entropy(torch.from_numpy(sklearn_test_pred),\n",
        "                                                torch.from_numpy(test['Y'].to_numpy()))"
      ],
      "execution_count": 53,
      "outputs": []
    },
    {
      "cell_type": "code",
      "metadata": {
        "id": "6QQfqLHY6IC3",
        "colab": {
          "base_uri": "https://localhost:8080/"
        },
        "outputId": "6559bbe0-4961-4644-a44b-aa10b5c85c50"
      },
      "source": [
        "print('Val loss', float(sklearn_test_loss))\n",
        "print('acc', accuracy_score(test['Y'], sklearn_test_pred.argmax(-1)))"
      ],
      "execution_count": 54,
      "outputs": [
        {
          "output_type": "stream",
          "text": [
            "Val loss 1.6985612352349602\n",
            "acc 0.9648472222222222\n"
          ],
          "name": "stdout"
        }
      ]
    },
    {
      "cell_type": "code",
      "metadata": {
        "id": "S7iRLNRL7pnC",
        "colab": {
          "base_uri": "https://localhost:8080/"
        },
        "outputId": "998bcfdd-81f0-41c3-9808-25f23b0a7cfc"
      },
      "source": [
        "pokus = ['hilft zu lernen oder.', 'no jo ale to neni  ', ' s a song by the', 'Существуют оба потом']\n",
        "for i in range(0, len(pokus)):\n",
        "    print(languages[sklearn_pipeline.predict_proba(pokus).argmax(-1)[i]])"
      ],
      "execution_count": 55,
      "outputs": [
        {
          "output_type": "stream",
          "text": [
            "DE\n",
            "CZ\n",
            "EN\n",
            "RU\n"
          ],
          "name": "stdout"
        }
      ]
    },
    {
      "cell_type": "code",
      "metadata": {
        "id": "LiEP5jaz9WQg"
      },
      "source": [
        "languages = ['CZ', 'RU', 'FR', 'DE', 'EN', 'PL', 'IT', \"UK\", \"FI\", \"BG\",\"ES\",\"PT\"]"
      ],
      "execution_count": 56,
      "outputs": []
    },
    {
      "cell_type": "code",
      "metadata": {
        "id": "Ff2Kkxp99WXe"
      },
      "source": [
        "pickle.dump(sklearn_pipeline, open(\"model.pkl\", 'wb'))"
      ],
      "execution_count": 57,
      "outputs": []
    },
    {
      "cell_type": "code",
      "metadata": {
        "id": "jksyQrdz9WgY"
      },
      "source": [
        "loaded_model = pickle.load(open(\"model.pkl\", 'rb'))"
      ],
      "execution_count": 58,
      "outputs": []
    },
    {
      "cell_type": "code",
      "metadata": {
        "id": "cd3ccbN22ZzU",
        "colab": {
          "base_uri": "https://localhost:8080/"
        },
        "outputId": "e3c12c16-e723-4e38-cbc1-4f2cc0c93864"
      },
      "source": [
        "pokus = ['hilft zu lernen oder.', 'jak se mas ne', ' s a song by the',\n",
        "         'Существуют оба потом', 'Южнославянски език, написан на кирилица',\n",
        "         'slaavilainen kieli, joka']\n",
        "for i in range(0, len(pokus)):\n",
        "    print(loaded_model.predict_proba(pokus)[i])\n",
        "    print(languages[loaded_model.predict_proba(pokus).argmax(-1)[i]])"
      ],
      "execution_count": 61,
      "outputs": [
        {
          "output_type": "stream",
          "text": [
            "[0.02311442 0.02551317 0.01361722 0.77252467 0.01041237 0.03600793\n",
            " 0.01993936 0.01690678 0.02097822 0.02701301 0.0187936  0.01517924]\n",
            "DE\n",
            "[0.18855176 0.01562587 0.0130478  0.0104378  0.00701823 0.61251271\n",
            " 0.01403201 0.01172365 0.0101429  0.01116703 0.00785551 0.09788475]\n",
            "PL\n",
            "[0.00519594 0.01862926 0.00212957 0.00338307 0.92470914 0.00442879\n",
            " 0.00695726 0.00448965 0.00343128 0.00441805 0.01927655 0.00295145]\n",
            "EN\n",
            "[0.07359245 0.35296746 0.05954584 0.04620306 0.03242376 0.0803891\n",
            " 0.05131163 0.06527225 0.07535875 0.06482333 0.04877548 0.04933688]\n",
            "RU\n",
            "[0.0054035  0.00443304 0.00394328 0.00342354 0.00186392 0.00588054\n",
            " 0.00386802 0.00410648 0.005397   0.95465336 0.0036231  0.00340422]\n",
            "BG\n",
            "[3.20796101e-06 3.41268611e-06 3.15071612e-06 2.17655151e-06\n",
            " 1.24040664e-06 3.73824407e-06 2.58567133e-06 2.95229766e-06\n",
            " 9.99969399e-01 3.28955517e-06 2.44617867e-06 2.40034697e-06]\n",
            "FI\n"
          ],
          "name": "stdout"
        }
      ]
    },
    {
      "cell_type": "markdown",
      "metadata": {
        "id": "P6aIaJ1anTe5"
      },
      "source": [
        "## generate django secret key"
      ]
    },
    {
      "cell_type": "code",
      "metadata": {
        "id": "8sf5XjNAK3Vm",
        "colab": {
          "base_uri": "https://localhost:8080/"
        },
        "outputId": "cb6bb908-518e-4c13-e9eb-ecd45b07f232"
      },
      "source": [
        "from django.core.management.utils import get_random_secret_key\n",
        "\n",
        "print(get_random_secret_key())"
      ],
      "execution_count": 60,
      "outputs": [
        {
          "output_type": "stream",
          "text": [
            "tc*$9v+fc2w85-#px@_d=t7$hii8g-xtpsvo5bb$*^#=#9910m\n"
          ],
          "name": "stdout"
        }
      ]
    },
    {
      "cell_type": "code",
      "metadata": {
        "id": "yvjgf9h6-XfP"
      },
      "source": [
        ""
      ],
      "execution_count": 42,
      "outputs": []
    }
  ]
}